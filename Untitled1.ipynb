{
 "cells": [
  {
   "cell_type": "code",
   "execution_count": 1,
   "id": "0dc8ca2b-f727-4e84-b7b9-f65fd40f91ce",
   "metadata": {},
   "outputs": [
    {
     "data": {
      "text/plain": [
       "{'AD/DC', 'dangeros', 'hello', 'pink floyd', 'savage garden'}"
      ]
     },
     "execution_count": 1,
     "metadata": {},
     "output_type": "execute_result"
    }
   ],
   "source": [
    "set1 = {\"hello\", \"dangeros\", \"savage garden\", \"pink floyd\", \"AD/DC\"}\n",
    "set1"
   ]
  },
  {
   "cell_type": "code",
   "execution_count": 6,
   "id": "faed31cb-7d9a-4013-94d4-9b8992e8f3d2",
   "metadata": {},
   "outputs": [
    {
     "data": {
      "text/plain": [
       "False"
      ]
     },
     "execution_count": 6,
     "metadata": {},
     "output_type": "execute_result"
    }
   ],
   "source": [
    "{'dangeros', 'pink floyd'} in set1"
   ]
  },
  {
   "cell_type": "code",
   "execution_count": 7,
   "id": "76b5500c-7894-43a5-9990-86ecf4538368",
   "metadata": {},
   "outputs": [
    {
     "data": {
      "text/plain": [
       "True"
      ]
     },
     "execution_count": 7,
     "metadata": {},
     "output_type": "execute_result"
    }
   ],
   "source": [
    "'dangeros' in set1"
   ]
  },
  {
   "cell_type": "code",
   "execution_count": 2,
   "id": "ec315e53-58c9-4605-b005-a328c8793369",
   "metadata": {},
   "outputs": [
    {
     "ename": "SyntaxError",
     "evalue": "invalid syntax (3925900753.py, line 1)",
     "output_type": "error",
     "traceback": [
      "\u001b[0;36m  File \u001b[0;32m\"/tmp/ipykernel_438/3925900753.py\"\u001b[0;36m, line \u001b[0;32m1\u001b[0m\n\u001b[0;31m    {'dangeros', 'pink floyd'} IN set1\u001b[0m\n\u001b[0m                                ^\u001b[0m\n\u001b[0;31mSyntaxError\u001b[0m\u001b[0;31m:\u001b[0m invalid syntax\n"
     ]
    }
   ],
   "source": [
    "{'dangeros', 'pink floyd'} IN set1"
   ]
  },
  {
   "cell_type": "code",
   "execution_count": 11,
   "id": "e5fdad9b-0d3b-41fa-9c56-aecc24b00907",
   "metadata": {},
   "outputs": [
    {
     "data": {
      "text/plain": [
       "{'dangeros', 'pink floyd'}"
      ]
     },
     "execution_count": 11,
     "metadata": {},
     "output_type": "execute_result"
    }
   ],
   "source": [
    "set2 = {'dangeros', 'pink floyd'}\n",
    "set2"
   ]
  },
  {
   "cell_type": "code",
   "execution_count": 4,
   "id": "d35b1af1-bd1d-40a9-930a-417dbf90998a",
   "metadata": {},
   "outputs": [
    {
     "ename": "SyntaxError",
     "evalue": "invalid syntax (2687384024.py, line 1)",
     "output_type": "error",
     "traceback": [
      "\u001b[0;36m  File \u001b[0;32m\"/tmp/ipykernel_438/2687384024.py\"\u001b[0;36m, line \u001b[0;32m1\u001b[0m\n\u001b[0;31m    set1 IS set1\u001b[0m\n\u001b[0m          ^\u001b[0m\n\u001b[0;31mSyntaxError\u001b[0m\u001b[0;31m:\u001b[0m invalid syntax\n"
     ]
    }
   ],
   "source": [
    "set1 IS set1"
   ]
  },
  {
   "cell_type": "code",
   "execution_count": 8,
   "id": "4311d6a3-d05e-4e18-a0dc-bccb11f8557e",
   "metadata": {},
   "outputs": [
    {
     "data": {
      "text/plain": [
       "True"
      ]
     },
     "execution_count": 8,
     "metadata": {},
     "output_type": "execute_result"
    }
   ],
   "source": [
    "set1 is set1"
   ]
  },
  {
   "cell_type": "code",
   "execution_count": 12,
   "id": "e48a1c01-a33f-493f-9577-1c9a3beaf08d",
   "metadata": {},
   "outputs": [
    {
     "data": {
      "text/plain": [
       "False"
      ]
     },
     "execution_count": 12,
     "metadata": {},
     "output_type": "execute_result"
    }
   ],
   "source": [
    "dupset2 = {'dangeros', 'pink floyd'}\n",
    "dupset2 is set2"
   ]
  },
  {
   "cell_type": "code",
   "execution_count": 5,
   "id": "de0fc2bd-f4d7-465c-b50a-fd1c543ca213",
   "metadata": {},
   "outputs": [
    {
     "ename": "SyntaxError",
     "evalue": "invalid syntax (1958403056.py, line 1)",
     "output_type": "error",
     "traceback": [
      "\u001b[0;36m  File \u001b[0;32m\"/tmp/ipykernel_438/1958403056.py\"\u001b[0;36m, line \u001b[0;32m1\u001b[0m\n\u001b[0;31m    'dengeros' IN set1\u001b[0m\n\u001b[0m                ^\u001b[0m\n\u001b[0;31mSyntaxError\u001b[0m\u001b[0;31m:\u001b[0m invalid syntax\n"
     ]
    }
   ],
   "source": [
    "'dengeros' IN set1"
   ]
  },
  {
   "cell_type": "code",
   "execution_count": null,
   "id": "2c4d7fd6-36b8-4165-bc04-d8e558674dd5",
   "metadata": {},
   "outputs": [],
   "source": []
  }
 ],
 "metadata": {
  "kernelspec": {
   "display_name": "Python",
   "language": "python",
   "name": "conda-env-python-py"
  },
  "language_info": {
   "codemirror_mode": {
    "name": "ipython",
    "version": 3
   },
   "file_extension": ".py",
   "mimetype": "text/x-python",
   "name": "python",
   "nbconvert_exporter": "python",
   "pygments_lexer": "ipython3",
   "version": "3.7.12"
  }
 },
 "nbformat": 4,
 "nbformat_minor": 5
}
